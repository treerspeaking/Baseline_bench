{
 "cells": [
  {
   "cell_type": "code",
   "execution_count": 1,
   "metadata": {},
   "outputs": [],
   "source": [
    "import numpy as np\n",
    "from sklearn.model_selection import train_test_split"
   ]
  },
  {
   "cell_type": "code",
   "execution_count": 2,
   "metadata": {},
   "outputs": [],
   "source": [
    "X = np.ones((10000,1000, 100))\n",
    "Y = np.concatenate((np.ones(8000), np.zeros(2000)))"
   ]
  },
  {
   "cell_type": "code",
   "execution_count": 3,
   "metadata": {},
   "outputs": [],
   "source": [
    "X_1, X_2, Y_1, Y_2 = train_test_split(X, Y, test_size=0.2, stratify=Y)"
   ]
  },
  {
   "cell_type": "code",
   "execution_count": 6,
   "metadata": {},
   "outputs": [
    {
     "name": "stdout",
     "output_type": "stream",
     "text": [
      "(2000, 1000, 100)\n"
     ]
    }
   ],
   "source": [
    "print(X_2.shape)"
   ]
  },
  {
   "cell_type": "code",
   "execution_count": 18,
   "metadata": {},
   "outputs": [
    {
     "name": "stdout",
     "output_type": "stream",
     "text": [
      "(8000, 1000, 100)\n"
     ]
    }
   ],
   "source": [
    "print(X_1.shape)"
   ]
  },
  {
   "cell_type": "code",
   "execution_count": 129,
   "metadata": {},
   "outputs": [
    {
     "name": "stdout",
     "output_type": "stream",
     "text": [
      "1600\n"
     ]
    }
   ],
   "source": [
    "print(sum(Y_1 == 0))"
   ]
  },
  {
   "cell_type": "code",
   "execution_count": null,
   "metadata": {},
   "outputs": [],
   "source": []
  },
  {
   "cell_type": "code",
   "execution_count": 66,
   "metadata": {},
   "outputs": [
    {
     "name": "stdout",
     "output_type": "stream",
     "text": [
      "train -  [30  3]   |   test -  [15  2]\n",
      "[0 0 0 0 0 0 0 0 0 0 0 0 0 0 0 0 0 0 0 0 0 0 0 0 0 0 0 0 0 0 1 1 1]\n",
      "train -  [30  3]   |   test -  [15  2]\n",
      "[0 0 0 0 0 0 0 0 0 0 0 0 0 0 0 0 0 0 0 0 0 0 0 0 0 0 0 0 0 0 1 1 1]\n",
      "train -  [30  4]   |   test -  [15  1]\n",
      "[0 0 0 0 0 0 0 0 0 0 0 0 0 0 0 0 0 0 0 0 0 0 0 0 0 0 0 0 0 0 1 1 1 1]\n"
     ]
    }
   ],
   "source": [
    "from sklearn.model_selection import StratifiedKFold, KFold\n",
    "import numpy as np\n",
    "X, y = np.ones((50, 1)), np.hstack(([0] * 45, [1] * 5))\n",
    "skf = StratifiedKFold(n_splits=3)\n",
    "for train, test in skf.split(X, y):\n",
    "    print('train -  {}   |   test -  {}'.format(\n",
    "        np.bincount(y[train]), np.bincount(y[test])))\n",
    "    print(y[train])\n",
    "    \n",
    "# kf = KFold(n_splits=3)\n",
    "# for train, test in kf.split(X, y):\n",
    "#     print('train -  {}   |   test -  {}'.format(\n",
    "#         np.bincount(y[train]), np.bincount(y[test])))"
   ]
  },
  {
   "cell_type": "code",
   "execution_count": 130,
   "metadata": {},
   "outputs": [],
   "source": [
    "import torch "
   ]
  },
  {
   "cell_type": "code",
   "execution_count": 170,
   "metadata": {},
   "outputs": [],
   "source": [
    "a = torch.ones((3,1,1,1))"
   ]
  },
  {
   "cell_type": "code",
   "execution_count": 171,
   "metadata": {},
   "outputs": [
    {
     "data": {
      "text/plain": [
       "torch.Size([3, 1, 1, 1])"
      ]
     },
     "execution_count": 171,
     "metadata": {},
     "output_type": "execute_result"
    }
   ],
   "source": [
    "a.shape"
   ]
  },
  {
   "cell_type": "code",
   "execution_count": 172,
   "metadata": {},
   "outputs": [],
   "source": [
    "b = torch.linalg.vector_norm(a, ord=2, dim=(1,2,3), keepdim=True)"
   ]
  },
  {
   "cell_type": "code",
   "execution_count": 173,
   "metadata": {},
   "outputs": [
    {
     "data": {
      "text/plain": [
       "torch.Size([3, 1, 1, 1])"
      ]
     },
     "execution_count": 173,
     "metadata": {},
     "output_type": "execute_result"
    }
   ],
   "source": [
    "b.shape"
   ]
  },
  {
   "cell_type": "code",
   "execution_count": 174,
   "metadata": {},
   "outputs": [
    {
     "data": {
      "text/plain": [
       "tensor([[[[1.]]],\n",
       "\n",
       "\n",
       "        [[[1.]]],\n",
       "\n",
       "\n",
       "        [[[1.]]]])"
      ]
     },
     "execution_count": 174,
     "metadata": {},
     "output_type": "execute_result"
    }
   ],
   "source": [
    "b"
   ]
  },
  {
   "cell_type": "code",
   "execution_count": 1,
   "metadata": {},
   "outputs": [],
   "source": [
    "# Option 1: Auto-reload only the specific data module\n",
    "%load_ext autoreload\n",
    "%autoreload 1\n",
    "%aimport data\n",
    "\n",
    "from data import Cifar10\n",
    "from torchvision.transforms import v2"
   ]
  },
  {
   "cell_type": "code",
   "execution_count": 2,
   "metadata": {},
   "outputs": [
    {
     "name": "stderr",
     "output_type": "stream",
     "text": [
      "/home/treerspeaking/miniforge3/lib/python3.10/site-packages/torchvision/transforms/v2/_deprecated.py:42: UserWarning: The transform `ToTensor()` is deprecated and will be removed in a future release. Instead, please use `v2.Compose([v2.ToImage(), v2.ToDtype(torch.float32, scale=True)])`.Output is equivalent up to float precision.\n",
      "  warnings.warn(\n"
     ]
    }
   ],
   "source": [
    "train_data = Cifar10(True, v2.ToTensor())"
   ]
  },
  {
   "cell_type": "code",
   "execution_count": null,
   "metadata": {},
   "outputs": [],
   "source": [
    "label_dataloader, unlabeled_dataloader = train_data.get_dataloader(labeled_batch_size=2, labeled_num_worker=4,shuffle = True, unlabeled=True, labeled_size=2000, unlabeled_batch_size=32, unlabeled_num_worker = 2,seed= None)"
   ]
  },
  {
   "cell_type": "code",
   "execution_count": null,
   "metadata": {},
   "outputs": [],
   "source": [
    "import pytorch_lightning as pl\n",
    "from torch.utils.data import DataLoader\n",
    "\n",
    "# Custom combined dataloader class\n",
    "class CombinedDataloader:\n",
    "    def __init__(self, labeled_dataloader, unlabeled_dataloader):\n",
    "        self.labeled_dataloader = labeled_dataloader\n",
    "        self.unlabeled_dataloader = unlabeled_dataloader\n",
    "        self.labeled_iter = iter(labeled_dataloader)\n",
    "    \n",
    "    def __iter__(self):\n",
    "        for unlabeled_batch in self.unlabeled_dataloader:\n",
    "            try:\n",
    "                labeled_batch = next(self.labeled_iter)\n",
    "            except StopIteration:\n",
    "                self.labeled_iter = iter(self.labeled_dataloader)\n",
    "                labeled_batch = next(self.labeled_iter)\n",
    "            yield labeled_batch, unlabeled_batch\n",
    "    \n",
    "    def __len__(self):\n",
    "        return len(self.unlabeled_dataloader)\n",
    "\n",
    "# LightningDataModule for semi-supervised learning\n",
    "class SemiSupervisedDataModule(pl.LightningDataModule):\n",
    "    def __init__(self, labeled_inputs, labels, unlabeled_inputs, batch_size_labeled=10, batch_size_unlabeled=50):\n",
    "        super().__init__()\n",
    "        self.labeled_dataset = LabeledDataset(labeled_inputs, labels)\n",
    "        self.unlabeled_dataset = UnlabeledDataset(unlabeled_inputs)\n",
    "        self.batch_size_labeled = batch_size_labeled\n",
    "        self.batch_size_unlabeled = batch_size_unlabeled\n",
    "    \n",
    "    def train_dataloader(self):\n",
    "        labeled_dataloader = DataLoader(\n",
    "            self.labeled_dataset,\n",
    "            batch_size=self.batch_size_labeled,\n",
    "            shuffle=True\n",
    "        )\n",
    "        unlabeled_dataloader = DataLoader(\n",
    "            self.unlabeled_dataset,\n",
    "            batch_size=self.batch_size_unlabeled,\n",
    "            shuffle=True\n",
    "        )\n",
    "        return CombinedDataloader(labeled_dataloader, unlabeled_dataloader)"
   ]
  },
  {
   "cell_type": "code",
   "execution_count": 5,
   "metadata": {},
   "outputs": [],
   "source": [
    "import numpy as np\n",
    "\n",
    "a = iter(np.arange(10))\n",
    "b = iter(np.arange(5))\n",
    "\n",
    "c = zip(a,b)"
   ]
  },
  {
   "cell_type": "code",
   "execution_count": 3,
   "metadata": {},
   "outputs": [
    {
     "name": "stdout",
     "output_type": "stream",
     "text": [
      "(np.int64(0), np.int64(0))\n",
      "(np.int64(1), np.int64(1))\n",
      "(np.int64(2), np.int64(2))\n",
      "(np.int64(3), np.int64(3))\n",
      "(np.int64(4), np.int64(4))\n"
     ]
    }
   ],
   "source": [
    "for i in c:\n",
    "    print(i)"
   ]
  },
  {
   "cell_type": "code",
   "execution_count": 8,
   "metadata": {},
   "outputs": [
    {
     "name": "stdout",
     "output_type": "stream",
     "text": [
      "(np.int64(0), np.int64(0))\n",
      "(np.int64(1), np.int64(1))\n",
      "(np.int64(2), np.int64(2))\n",
      "(np.int64(3), np.int64(3))\n",
      "(np.int64(4), np.int64(4))\n"
     ]
    },
    {
     "ename": "StopIteration",
     "evalue": "",
     "output_type": "error",
     "traceback": [
      "\u001b[0;31m---------------------------------------------------------------------------\u001b[0m",
      "\u001b[0;31mStopIteration\u001b[0m                             Traceback (most recent call last)",
      "Cell \u001b[0;32mIn[8], line 9\u001b[0m\n\u001b[1;32m      6\u001b[0m c \u001b[38;5;241m=\u001b[39m \u001b[38;5;28mzip\u001b[39m(a,b)\n\u001b[1;32m      8\u001b[0m \u001b[38;5;28;01mwhile\u001b[39;00m \u001b[38;5;28;01mTrue\u001b[39;00m:\n\u001b[0;32m----> 9\u001b[0m     \u001b[38;5;28mprint\u001b[39m(\u001b[38;5;28;43mnext\u001b[39;49m\u001b[43m(\u001b[49m\u001b[43mc\u001b[49m\u001b[43m)\u001b[49m)\n",
      "\u001b[0;31mStopIteration\u001b[0m: "
     ]
    }
   ],
   "source": [
    "import numpy as np\n",
    "\n",
    "a = iter(np.arange(10))\n",
    "b = iter(np.arange(5))\n",
    "\n",
    "c = zip(a,b)\n",
    "\n",
    "while True:\n",
    "    print(next(c))"
   ]
  },
  {
   "cell_type": "code",
   "execution_count": 2,
   "metadata": {},
   "outputs": [],
   "source": [
    "class A():\n",
    "    def __init__(self,):\n",
    "        self.a = 1\n",
    "    \n",
    "    def func():\n",
    "        print(1)\n",
    "    "
   ]
  },
  {
   "cell_type": "code",
   "execution_count": 3,
   "metadata": {},
   "outputs": [
    {
     "ename": "TypeError",
     "evalue": "A.func() takes 0 positional arguments but 1 was given",
     "output_type": "error",
     "traceback": [
      "\u001b[0;31m---------------------------------------------------------------------------\u001b[0m",
      "\u001b[0;31mTypeError\u001b[0m                                 Traceback (most recent call last)",
      "Cell \u001b[0;32mIn[3], line 2\u001b[0m\n\u001b[1;32m      1\u001b[0m a \u001b[38;5;241m=\u001b[39m A()\n\u001b[0;32m----> 2\u001b[0m \u001b[38;5;28mprint\u001b[39m(\u001b[43ma\u001b[49m\u001b[38;5;241;43m.\u001b[39;49m\u001b[43mfunc\u001b[49m\u001b[43m(\u001b[49m\u001b[43m)\u001b[49m)\n",
      "\u001b[0;31mTypeError\u001b[0m: A.func() takes 0 positional arguments but 1 was given"
     ]
    }
   ],
   "source": [
    "a = A()\n",
    "print(a.func())"
   ]
  },
  {
   "cell_type": "code",
   "execution_count": 11,
   "metadata": {},
   "outputs": [],
   "source": [
    "from torch import tensor\n",
    "from torchmetrics import Accuracy"
   ]
  },
  {
   "cell_type": "code",
   "execution_count": 18,
   "metadata": {},
   "outputs": [
    {
     "data": {
      "text/plain": [
       "tensor(1.)"
      ]
     },
     "execution_count": 18,
     "metadata": {},
     "output_type": "execute_result"
    }
   ],
   "source": [
    "target = tensor([0, 1, 2])\n",
    "preds = tensor([[0.9, 0.1, 0], [0.3, 0.7, 0.6], [0.2, 0.2, 99]])\n",
    "accuracy = Accuracy(task=\"multiclass\", num_classes=3)\n",
    "accuracy(preds, target)"
   ]
  },
  {
   "cell_type": "code",
   "execution_count": 19,
   "metadata": {},
   "outputs": [
    {
     "data": {
      "text/plain": [
       "tensor(1.)"
      ]
     },
     "execution_count": 19,
     "metadata": {},
     "output_type": "execute_result"
    }
   ],
   "source": [
    "preds_2 = tensor([[0.9, 0.1, 0], [0.3, 0.7, 0.6], [0.2, 0.2, 1]])\n",
    "\n",
    "accuracy(preds_2, target)"
   ]
  },
  {
   "cell_type": "code",
   "execution_count": null,
   "metadata": {},
   "outputs": [],
   "source": []
  }
 ],
 "metadata": {
  "kernelspec": {
   "display_name": "base",
   "language": "python",
   "name": "python3"
  },
  "language_info": {
   "codemirror_mode": {
    "name": "ipython",
    "version": 3
   },
   "file_extension": ".py",
   "mimetype": "text/x-python",
   "name": "python",
   "nbconvert_exporter": "python",
   "pygments_lexer": "ipython3",
   "version": "3.10.16"
  }
 },
 "nbformat": 4,
 "nbformat_minor": 2
}
